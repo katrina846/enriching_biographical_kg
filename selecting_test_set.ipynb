{
 "cells": [
  {
   "cell_type": "markdown",
   "id": "fedf78b7",
   "metadata": {},
   "source": [
    "# Randomly selecting 50 biographies as test set"
   ]
  },
  {
   "cell_type": "markdown",
   "id": "54d8da8f",
   "metadata": {},
   "source": [
    "In this notebook, 50 biographies are randomly selected for the test set. "
   ]
  },
  {
   "cell_type": "code",
   "execution_count": 1,
   "id": "bfa8ced7",
   "metadata": {},
   "outputs": [],
   "source": [
    "%load_ext ipython_sparql_pandas"
   ]
  },
  {
   "cell_type": "code",
   "execution_count": 2,
   "id": "9c4a6a89",
   "metadata": {},
   "outputs": [],
   "source": [
    "%%capture cell1\n",
    "%%sparql http://DESKTOP-409PJ8J:7200/repositories/intavia -s query_biographies\n",
    "PREFIX bgn:<http://data.biographynet.nl/rdf/> \n",
    "PREFIX rdfs: <http://www.w3.org/2000/01/rdf-schema#>\n",
    "PREFIX crm: <http://www.cidoc-crm.org/cidoc-crm/>\n",
    "\n",
    "SELECT ?bio_part ?bio \n",
    "WHERE {\n",
    "    ?bio_part bgn:text ?bio.\n",
    "        \n",
    "}     "
   ]
  },
  {
   "cell_type": "code",
   "execution_count": 3,
   "id": "16812ea3",
   "metadata": {},
   "outputs": [],
   "source": [
    "test_set = query_biographies.sample(50)"
   ]
  },
  {
   "cell_type": "code",
   "execution_count": 5,
   "id": "6801effb",
   "metadata": {},
   "outputs": [],
   "source": [
    "test_set.to_csv('test_set_1.csv')"
   ]
  }
 ],
 "metadata": {
  "kernelspec": {
   "display_name": "Python 3 (ipykernel)",
   "language": "python",
   "name": "python3"
  },
  "language_info": {
   "codemirror_mode": {
    "name": "ipython",
    "version": 3
   },
   "file_extension": ".py",
   "mimetype": "text/x-python",
   "name": "python",
   "nbconvert_exporter": "python",
   "pygments_lexer": "ipython3",
   "version": "3.9.13"
  }
 },
 "nbformat": 4,
 "nbformat_minor": 5
}
