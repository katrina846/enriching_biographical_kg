{
 "cells": [
  {
   "cell_type": "markdown",
   "id": "801ae21d",
   "metadata": {},
   "source": [
    "# Preprocessing and tokenization"
   ]
  },
  {
   "cell_type": "markdown",
   "id": "43fe13c3",
   "metadata": {},
   "source": [
    "In this notebook, the test data is preprocessed and tokenized. We firstly remove the html code that can be in the biographies. Afterwards, we perform sentence splitting and word tokenization."
   ]
  },
  {
   "cell_type": "markdown",
   "id": "80968980",
   "metadata": {},
   "source": [
    "## Preprocessing "
   ]
  },
  {
   "cell_type": "code",
   "execution_count": 1,
   "id": "7cf17962",
   "metadata": {},
   "outputs": [],
   "source": [
    "#importing libraries \n",
    "import pandas as pd \n",
    "import nltk\n",
    "from bs4 import BeautifulSoup\n",
    "import spacy\n",
    "from spacy.attrs import ORTH, NORM"
   ]
  },
  {
   "cell_type": "code",
   "execution_count": 2,
   "id": "da48d350",
   "metadata": {},
   "outputs": [],
   "source": [
    "#retrieving the test data\n",
    "test_set = pd.read_csv(\"test_set_1.csv\")"
   ]
  },
  {
   "cell_type": "code",
   "execution_count": 3,
   "id": "bf49144e",
   "metadata": {},
   "outputs": [],
   "source": [
    "#saving biography with its identifier in a list \n",
    "biography_snippets = []\n",
    "for index, row in test_set.iterrows():\n",
    "    biography_snippets.append([row['bio_part'],row['bio']])"
   ]
  },
  {
   "cell_type": "code",
   "execution_count": 5,
   "id": "12e0624d",
   "metadata": {},
   "outputs": [],
   "source": [
    "#cleaning the biographies\n",
    "bio_parts = []\n",
    "cleaned_snippets = []\n",
    "i=0\n",
    "for bio in biography_snippets:\n",
    "    bio_parts.append([bio[0],i])\n",
    "    cleaned_text = BeautifulSoup(bio[1], \"lxml\").text\n",
    "    cleaned_snippets.append(cleaned_text)\n",
    "    i+=1\n",
    "    "
   ]
  },
  {
   "cell_type": "code",
   "execution_count": 7,
   "id": "e0d2ef2c",
   "metadata": {},
   "outputs": [
    {
     "name": "stdout",
     "output_type": "stream",
     "text": [
      "Stored 'bio_parts' (list)\n"
     ]
    }
   ],
   "source": [
    "%store bio_parts"
   ]
  },
  {
   "cell_type": "markdown",
   "id": "a0f959e9",
   "metadata": {},
   "source": [
    "## Tokenization of biographies "
   ]
  },
  {
   "cell_type": "code",
   "execution_count": 8,
   "id": "b022e7e1",
   "metadata": {},
   "outputs": [
    {
     "data": {
      "text/plain": [
       "<spacy_dbpedia_spotlight.entity_linker.EntityLinker at 0x243605a2b20>"
      ]
     },
     "execution_count": 8,
     "metadata": {},
     "output_type": "execute_result"
    }
   ],
   "source": [
    "#loading spacy model \n",
    "nlp = spacy.load(\"nl_core_news_md\")\n",
    "nlp.tokenizer.add_special_case('begr.', [{ORTH: 'begr.', NORM: 'begraven'}])\n",
    "nlp.tokenizer.add_special_case('gest.', [{ORTH: 'gest.', NORM: 'gestorven'}])\n",
    "nlp.add_pipe(\"dbpedia_spotlight\")"
   ]
  },
  {
   "cell_type": "code",
   "execution_count": 9,
   "id": "a9a595b8",
   "metadata": {},
   "outputs": [],
   "source": [
    "#sentence splitting and tokenization \n",
    "test_snippets = [] \n",
    "for snippet_index in range(len(cleaned_snippets)):\n",
    "    snippet = []\n",
    "    doc = nlp(cleaned_snippets[snippet_index])\n",
    "    for sent in doc.sents:\n",
    "        snippet.append([token.text for token in sent])\n",
    "    test_snippets.append(snippet)"
   ]
  },
  {
   "cell_type": "code",
   "execution_count": 10,
   "id": "1ec4b186",
   "metadata": {},
   "outputs": [],
   "source": [
    "# adding POS tag per token \n",
    "test_data = []\n",
    "pos_tags_per_sentence = []\n",
    "for snippet in test_snippets:\n",
    "    biography = [] \n",
    "    for sent in snippet:\n",
    "        tagged = nltk.pos_tag(sent)\n",
    "        biography.append(tagged)\n",
    "    \n",
    "    test_data.append(biography)"
   ]
  },
  {
   "cell_type": "code",
   "execution_count": 11,
   "id": "08d634b3",
   "metadata": {},
   "outputs": [
    {
     "name": "stdout",
     "output_type": "stream",
     "text": [
      "Stored 'test_data' (list)\n"
     ]
    }
   ],
   "source": [
    "%store test_data"
   ]
  }
 ],
 "metadata": {
  "kernelspec": {
   "display_name": "Python 3 (ipykernel)",
   "language": "python",
   "name": "python3"
  },
  "language_info": {
   "codemirror_mode": {
    "name": "ipython",
    "version": 3
   },
   "file_extension": ".py",
   "mimetype": "text/x-python",
   "name": "python",
   "nbconvert_exporter": "python",
   "pygments_lexer": "ipython3",
   "version": "3.9.13"
  }
 },
 "nbformat": 4,
 "nbformat_minor": 5
}
